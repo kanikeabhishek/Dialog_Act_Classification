{
  "nbformat": 4,
  "nbformat_minor": 0,
  "metadata": {
    "colab": {
      "name": "Dialog_Speech_CNN.ipynb",
      "version": "0.3.2",
      "views": {},
      "default_view": {},
      "provenance": [
        {
          "file_id": "1BihWpqIJUaYWnLKMPU7Hm7bGCDV8w0TL",
          "timestamp": 1525218430839
        }
      ],
      "collapsed_sections": []
    },
    "kernelspec": {
      "display_name": "Python 2",
      "language": "python",
      "name": "python2"
    },
    "accelerator": "GPU"
  },
  "cells": [
    {
      "metadata": {
        "id": "cXKKkndwyqAG",
        "colab_type": "code",
        "colab": {
          "autoexec": {
            "startup": false,
            "wait_interval": 0
          },
          "base_uri": "https://localhost:8080/",
          "height": 217
        },
        "outputId": "2ea0dd82-4d77-49c6-d8ee-36598292cbc6",
        "executionInfo": {
          "status": "ok",
          "timestamp": 1525218850786,
          "user_tz": 240,
          "elapsed": 4445,
          "user": {
            "displayName": "Manoj Joshi",
            "photoUrl": "https://lh3.googleusercontent.com/a/default-user=s128",
            "userId": "112099731100984326150"
          }
        }
      },
      "cell_type": "code",
      "source": [
        "!pip install googledrivedownloader\n",
        "!pip install keras"
      ],
      "execution_count": 1,
      "outputs": [
        {
          "output_type": "stream",
          "text": [
            "Collecting googledrivedownloader\n",
            "  Downloading https://files.pythonhosted.org/packages/7e/41/d59b2a5fcc7afeb40f23091694bd6e6a63ad118c93f834353ee5100285d5/googledrivedownloader-0.3-py2.py3-none-any.whl\n",
            "Installing collected packages: googledrivedownloader\n",
            "Successfully installed googledrivedownloader-0.3\n",
            "Requirement already satisfied: keras in /usr/local/lib/python2.7/dist-packages (2.1.6)\n",
            "Requirement already satisfied: h5py in /usr/local/lib/python2.7/dist-packages (from keras) (2.7.1)\n",
            "Requirement already satisfied: pyyaml in /usr/local/lib/python2.7/dist-packages (from keras) (3.12)\n",
            "Requirement already satisfied: six>=1.9.0 in /usr/local/lib/python2.7/dist-packages (from keras) (1.11.0)\n",
            "Requirement already satisfied: numpy>=1.9.1 in /usr/local/lib/python2.7/dist-packages (from keras) (1.14.3)\n",
            "Requirement already satisfied: scipy>=0.14 in /usr/local/lib/python2.7/dist-packages (from keras) (0.19.1)\n"
          ],
          "name": "stdout"
        }
      ]
    },
    {
      "metadata": {
        "id": "q4EhGAUayus6",
        "colab_type": "code",
        "colab": {
          "autoexec": {
            "startup": false,
            "wait_interval": 0
          },
          "base_uri": "https://localhost:8080/",
          "height": 107
        },
        "outputId": "e0cccbf1-b626-4b95-b680-f76daaf2cbef",
        "executionInfo": {
          "status": "ok",
          "timestamp": 1525218857594,
          "user_tz": 240,
          "elapsed": 4770,
          "user": {
            "displayName": "Manoj Joshi",
            "photoUrl": "https://lh3.googleusercontent.com/a/default-user=s128",
            "userId": "112099731100984326150"
          }
        }
      },
      "cell_type": "code",
      "source": [
        "from google_drive_downloader import GoogleDriveDownloader as gdd\n",
        "\n",
        "ids =[\"1m3o5jRXxaE19iCv2s0LKIGZppJrKk0zX\", \"1QGb2o6ISDtaAS6eK2bYmFsdK_xHSbYNX\",\"19KQfcz7GTArRCPsk61IVrAqLkUlk31Yn\",\n",
        "      \"16GA5jJYJ7qaypO5OdbesKd_19ObDS4AQ\", \"1tEGfozl4bfjzNAMZDWjOAx7yCzhBSfVH\"]\n",
        "\n",
        "file_names = [\"declarative_question.pkl\",\"description_statement.pkl\", \"view_opinion_statement.pkl\",\n",
        "              \"wh_question.pkl\", \"yes_no_question.pkl\"]\n",
        "\n",
        "for i in range(len(ids)):\n",
        "  a = gdd.download_file_from_google_drive(file_id= ids[i],\n",
        "                                      dest_path=\"./\"+file_names[i],\n",
        "                                      unzip=False)"
      ],
      "execution_count": 2,
      "outputs": [
        {
          "output_type": "stream",
          "text": [
            "Downloading 1m3o5jRXxaE19iCv2s0LKIGZppJrKk0zX into ./declarative_question.pkl... Done.\n",
            "Downloading 1QGb2o6ISDtaAS6eK2bYmFsdK_xHSbYNX into ./description_statement.pkl... Done.\n",
            "Downloading 19KQfcz7GTArRCPsk61IVrAqLkUlk31Yn into ./view_opinion_statement.pkl... Done.\n",
            "Downloading 16GA5jJYJ7qaypO5OdbesKd_19ObDS4AQ into ./wh_question.pkl... Done.\n",
            "Downloading 1tEGfozl4bfjzNAMZDWjOAx7yCzhBSfVH into ./yes_no_question.pkl... Done.\n"
          ],
          "name": "stdout"
        }
      ]
    },
    {
      "metadata": {
        "id": "htsmTCK5zA8e",
        "colab_type": "code",
        "colab": {
          "autoexec": {
            "startup": false,
            "wait_interval": 0
          }
        }
      },
      "cell_type": "code",
      "source": [
        "import numpy as np\n",
        "from keras.models import Sequential\n",
        "from keras.layers import Dense\n",
        "from keras.layers import Dropout\n",
        "from keras.layers import Flatten, BatchNormalization\n",
        "from keras.layers.convolutional import Conv2D\n",
        "from keras.layers.convolutional import MaxPooling2D\n",
        "from keras.utils import np_utils\n",
        "from keras.utils import to_categorical\n",
        "from sklearn.preprocessing import LabelEncoder\n",
        "from sklearn.preprocessing import OneHotEncoder\n",
        "from keras import backend as K\n",
        "from keras.models import load_model\n",
        "from keras.callbacks import EarlyStopping, ModelCheckpoint\n",
        "K.set_image_dim_ordering('th')\n",
        "import pickle"
      ],
      "execution_count": 0,
      "outputs": []
    },
    {
      "metadata": {
        "id": "djarUI1IzLlr",
        "colab_type": "code",
        "colab": {
          "autoexec": {
            "startup": false,
            "wait_interval": 0
          }
        }
      },
      "cell_type": "code",
      "source": [
        "\"\"\"words list represents the \"pkl\" file names\n",
        "    which have the same word as .wav file.\n",
        "    The pkl file is dictionary with key as the word spoken\n",
        "    and the value as numpy array where element is a (20 * 100) vector\n",
        "    representing the mfcc vectors of the .wav file. \"\"\"\n",
        "\n",
        "words = [\"declarative_question\", \"description_statement\", \"view_opinion_statement\", \"wh_question\", \"yes_no_question\"]\n",
        "#words = [\"bed\", \"down\", \"dog\"]"
      ],
      "execution_count": 0,
      "outputs": []
    },
    {
      "metadata": {
        "id": "EpA5WgaozRJl",
        "colab_type": "code",
        "colab": {
          "autoexec": {
            "startup": false,
            "wait_interval": 0
          },
          "base_uri": "https://localhost:8080/",
          "height": 53
        },
        "outputId": "93ea8b54-d9a1-46bc-f80c-fd71662f9f4f",
        "executionInfo": {
          "status": "ok",
          "timestamp": 1525219009767,
          "user_tz": 240,
          "elapsed": 433,
          "user": {
            "displayName": "Manoj Joshi",
            "photoUrl": "https://lh3.googleusercontent.com/a/default-user=s128",
            "userId": "112099731100984326150"
          }
        }
      },
      "cell_type": "code",
      "source": [
        "data = pickle.load( open( words[0]+\".pkl\", \"rb\" ) )\n",
        "for keys in data:\n",
        "    X = data[keys]\n",
        "    Y = np.array([[keys]] * data[keys].shape[0])\n",
        "    #print X_1.shape\n",
        "    \n",
        "    \n",
        "for i in range(1,len(words)):\n",
        "    data = pickle.load( open( words[i]+\".pkl\", \"rb\" ) )\n",
        "    for keys in data:\n",
        "        Y = np.append(Y, [[keys]] * data[keys].shape[0], axis = 0)\n",
        "        X = np.append(X, data[keys], axis = 0)\n",
        "        #print X_1.shape\n",
        "        \n",
        "print X.shape\n",
        "print Y.shape"
      ],
      "execution_count": 14,
      "outputs": [
        {
          "output_type": "stream",
          "text": [
            "(88, 20, 300)\n",
            "(88, 1)\n"
          ],
          "name": "stdout"
        }
      ]
    },
    {
      "metadata": {
        "id": "jv44rDtFzTUi",
        "colab_type": "code",
        "colab": {
          "autoexec": {
            "startup": false,
            "wait_interval": 0
          }
        }
      },
      "cell_type": "code",
      "source": [
        "label_encoder = LabelEncoder()\n",
        "integer_encoded = label_encoder.fit_transform(Y)\n",
        "#print integer_encoded\n",
        "onehot_encoder = OneHotEncoder(sparse=False)\n",
        "integer_encoded = integer_encoded.reshape(len(integer_encoded), 1)\n",
        "onehot_encoded = onehot_encoder.fit_transform(integer_encoded)\n",
        "Y = onehot_encoded"
      ],
      "execution_count": 0,
      "outputs": []
    },
    {
      "metadata": {
        "id": "KwWrtPyuzYCC",
        "colab_type": "code",
        "colab": {
          "autoexec": {
            "startup": false,
            "wait_interval": 0
          },
          "base_uri": "https://localhost:8080/",
          "height": 71
        },
        "outputId": "6d97fadc-85b1-48a7-881b-2262cd7ea41e",
        "executionInfo": {
          "status": "ok",
          "timestamp": 1525219267946,
          "user_tz": 240,
          "elapsed": 363,
          "user": {
            "displayName": "Manoj Joshi",
            "photoUrl": "https://lh3.googleusercontent.com/a/default-user=s128",
            "userId": "112099731100984326150"
          }
        }
      },
      "cell_type": "code",
      "source": [
        "\"\"\"Convolution Layer in Keras\n",
        "   accepts input as 3d - height, width, depth(RGB channels).\n",
        "   Since we do not have depth in text, we can convert it to a vector\n",
        "   with a depth = 1\"\"\"\n",
        "\n",
        "X = X.reshape(X.shape[0], 1, 20, 300)\n",
        "print X.shape\n",
        "print Y.shape\n",
        "num_classes = Y.shape[1]\n",
        "print num_classes"
      ],
      "execution_count": 41,
      "outputs": [
        {
          "output_type": "stream",
          "text": [
            "(88, 1, 20, 300)\n",
            "(88, 5)\n",
            "5\n"
          ],
          "name": "stdout"
        }
      ]
    },
    {
      "metadata": {
        "id": "U2Q-k_TAzbFG",
        "colab_type": "code",
        "colab": {
          "autoexec": {
            "startup": false,
            "wait_interval": 0
          }
        }
      },
      "cell_type": "code",
      "source": [
        "model = Sequential()\n",
        "model.add(Conv2D(50, (5, 5), input_shape=(1, 20, 300), activation='relu', padding=\"same\"))\n",
        "model.add(BatchNormalization())\n",
        "model.add(MaxPooling2D(pool_size=(2, 2)))\n",
        "\n",
        "model.add(Conv2D(30, (3, 3), activation='relu', padding=\"same\"))\n",
        "model.add(BatchNormalization())\n",
        "#model.add(MaxPooling2D(pool_size=(2, 2)))\n",
        "\n",
        "model.add(Conv2D(15, (3, 3), activation='relu', padding=\"same\"))\n",
        "model.add(BatchNormalization())\n",
        "model.add(MaxPooling2D(pool_size=(2, 2)))\n",
        "model.add(Dropout(0.5))\n",
        "\n",
        "\n",
        "model.add(Flatten())\n",
        "model.add(Dense(128, activation='relu'))\n",
        "model.add(Dense(50, activation='relu'))\n",
        "model.add(Dense(num_classes, activation='softmax'))\n",
        "# Compile model\n",
        "model.compile(loss='categorical_crossentropy', optimizer='adam', metrics=['accuracy'])"
      ],
      "execution_count": 0,
      "outputs": []
    },
    {
      "metadata": {
        "id": "nqG8Aeztzeft",
        "colab_type": "code",
        "colab": {
          "autoexec": {
            "startup": false,
            "wait_interval": 0
          },
          "base_uri": "https://localhost:8080/",
          "height": 611
        },
        "outputId": "ab0f3b8d-db45-4efe-e732-a2d083676efb",
        "executionInfo": {
          "status": "ok",
          "timestamp": 1525222664908,
          "user_tz": 240,
          "elapsed": 5371,
          "user": {
            "displayName": "Manoj Joshi",
            "photoUrl": "https://lh3.googleusercontent.com/a/default-user=s128",
            "userId": "112099731100984326150"
          }
        }
      },
      "cell_type": "code",
      "source": [
        "model.summary()"
      ],
      "execution_count": 56,
      "outputs": [
        {
          "output_type": "stream",
          "text": [
            "_________________________________________________________________\n",
            "Layer (type)                 Output Shape              Param #   \n",
            "=================================================================\n",
            "conv2d_13 (Conv2D)           (None, 50, 20, 300)       1300      \n",
            "_________________________________________________________________\n",
            "batch_normalization_13 (Batc (None, 50, 20, 300)       1200      \n",
            "_________________________________________________________________\n",
            "max_pooling2d_9 (MaxPooling2 (None, 50, 10, 150)       0         \n",
            "_________________________________________________________________\n",
            "conv2d_14 (Conv2D)           (None, 30, 10, 150)       13530     \n",
            "_________________________________________________________________\n",
            "batch_normalization_14 (Batc (None, 30, 10, 150)       600       \n",
            "_________________________________________________________________\n",
            "conv2d_15 (Conv2D)           (None, 15, 10, 150)       4065      \n",
            "_________________________________________________________________\n",
            "batch_normalization_15 (Batc (None, 15, 10, 150)       600       \n",
            "_________________________________________________________________\n",
            "max_pooling2d_10 (MaxPooling (None, 15, 5, 75)         0         \n",
            "_________________________________________________________________\n",
            "dropout_5 (Dropout)          (None, 15, 5, 75)         0         \n",
            "_________________________________________________________________\n",
            "flatten_5 (Flatten)          (None, 5625)              0         \n",
            "_________________________________________________________________\n",
            "dense_13 (Dense)             (None, 128)               720128    \n",
            "_________________________________________________________________\n",
            "dense_14 (Dense)             (None, 50)                6450      \n",
            "_________________________________________________________________\n",
            "dense_15 (Dense)             (None, 5)                 255       \n",
            "=================================================================\n",
            "Total params: 748,128\n",
            "Trainable params: 746,928\n",
            "Non-trainable params: 1,200\n",
            "_________________________________________________________________\n"
          ],
          "name": "stdout"
        }
      ]
    },
    {
      "metadata": {
        "id": "ZMnN8NpjzgcE",
        "colab_type": "code",
        "colab": {
          "autoexec": {
            "startup": false,
            "wait_interval": 0
          },
          "base_uri": "https://localhost:8080/",
          "height": 1135
        },
        "outputId": "b59fdfbf-0361-4fa2-8fd2-c571cb84b668",
        "executionInfo": {
          "status": "ok",
          "timestamp": 1525219280545,
          "user_tz": 240,
          "elapsed": 5463,
          "user": {
            "displayName": "Manoj Joshi",
            "photoUrl": "https://lh3.googleusercontent.com/a/default-user=s128",
            "userId": "112099731100984326150"
          }
        }
      },
      "cell_type": "code",
      "source": [
        "# file_path=\"CNN_v4_val_loss.hdf5\"\n",
        "# checkpoint = ModelCheckpoint(file_path, monitor='val_loss', verbose=1, save_best_only=True, mode='min')\n",
        "# early = EarlyStopping(monitor=\"val_loss\", mode=\"min\", patience=20)\n",
        "# callbacks_list = [checkpoint, early] #early\n",
        "model.fit(X, Y, epochs=30, batch_size= 32)"
      ],
      "execution_count": 44,
      "outputs": [
        {
          "output_type": "stream",
          "text": [
            "Epoch 1/30\n",
            "88/88 [==============================] - 1s 10ms/step - loss: 2.3007 - acc: 0.2500\n",
            "Epoch 2/30\n",
            "88/88 [==============================] - 0s 1ms/step - loss: 1.7944 - acc: 0.2727\n",
            "Epoch 3/30\n",
            "88/88 [==============================] - 0s 1ms/step - loss: 1.6859 - acc: 0.3409\n",
            "Epoch 4/30\n",
            "88/88 [==============================] - 0s 1ms/step - loss: 1.4641 - acc: 0.3295\n",
            "Epoch 5/30\n",
            "88/88 [==============================] - 0s 1ms/step - loss: 1.4620 - acc: 0.3409\n",
            "Epoch 6/30\n",
            "88/88 [==============================] - 0s 1ms/step - loss: 1.3053 - acc: 0.4545\n",
            "Epoch 7/30\n",
            "88/88 [==============================] - 0s 1ms/step - loss: 1.4274 - acc: 0.3864\n",
            "Epoch 8/30\n",
            "88/88 [==============================] - 0s 1ms/step - loss: 1.3838 - acc: 0.3864\n",
            "Epoch 9/30\n",
            "88/88 [==============================] - 0s 1ms/step - loss: 1.2569 - acc: 0.4659\n",
            "Epoch 10/30\n",
            "88/88 [==============================] - 0s 1ms/step - loss: 1.1743 - acc: 0.4886\n",
            "Epoch 11/30\n",
            "88/88 [==============================] - 0s 1ms/step - loss: 1.1263 - acc: 0.4432\n",
            "Epoch 12/30\n",
            "88/88 [==============================] - 0s 1ms/step - loss: 1.1051 - acc: 0.5227\n",
            "Epoch 13/30\n",
            "88/88 [==============================] - 0s 1ms/step - loss: 1.0022 - acc: 0.6023\n",
            "Epoch 14/30\n",
            "88/88 [==============================] - 0s 1ms/step - loss: 1.1851 - acc: 0.4659\n",
            "Epoch 15/30\n",
            "88/88 [==============================] - 0s 1ms/step - loss: 0.8115 - acc: 0.6591\n",
            "Epoch 16/30\n",
            "88/88 [==============================] - 0s 1ms/step - loss: 0.8259 - acc: 0.6477\n",
            "Epoch 17/30\n",
            "88/88 [==============================] - 0s 1ms/step - loss: 0.6658 - acc: 0.7614\n",
            "Epoch 18/30\n",
            "88/88 [==============================] - 0s 1ms/step - loss: 0.9460 - acc: 0.6591\n",
            "Epoch 19/30\n",
            "88/88 [==============================] - 0s 1ms/step - loss: 0.6008 - acc: 0.7841\n",
            "Epoch 20/30\n",
            "88/88 [==============================] - 0s 1ms/step - loss: 0.6066 - acc: 0.7386\n",
            "Epoch 21/30\n",
            "88/88 [==============================] - 0s 1ms/step - loss: 0.5189 - acc: 0.8182\n",
            "Epoch 22/30\n",
            "88/88 [==============================] - 0s 1ms/step - loss: 0.3181 - acc: 0.9318\n",
            "Epoch 23/30\n",
            "88/88 [==============================] - 0s 1ms/step - loss: 0.3774 - acc: 0.8409\n",
            "Epoch 24/30\n",
            "88/88 [==============================] - 0s 1ms/step - loss: 0.1636 - acc: 0.9773\n",
            "Epoch 25/30\n",
            "88/88 [==============================] - 0s 1ms/step - loss: 0.1716 - acc: 0.9659\n",
            "Epoch 26/30\n",
            "88/88 [==============================] - 0s 1ms/step - loss: 0.1412 - acc: 0.9773\n",
            "Epoch 27/30\n",
            "88/88 [==============================] - 0s 1ms/step - loss: 0.1038 - acc: 0.9773\n",
            "Epoch 28/30\n",
            "88/88 [==============================] - 0s 1ms/step - loss: 0.1070 - acc: 0.9773\n",
            "Epoch 29/30\n",
            "32/88 [=========>....................] - ETA: 0s - loss: 0.1209 - acc: 0.9375"
          ],
          "name": "stdout"
        },
        {
          "output_type": "stream",
          "text": [
            "88/88 [==============================] - 0s 1ms/step - loss: 0.0845 - acc: 0.9773\n",
            "Epoch 30/30\n",
            "88/88 [==============================] - 0s 1ms/step - loss: 0.0466 - acc: 1.0000\n"
          ],
          "name": "stdout"
        },
        {
          "output_type": "execute_result",
          "data": {
            "text/plain": [
              "<keras.callbacks.History at 0x7f1cb88742d0>"
            ]
          },
          "metadata": {
            "tags": []
          },
          "execution_count": 44
        }
      ]
    },
    {
      "metadata": {
        "id": "ZVznz_FS0Bwg",
        "colab_type": "code",
        "colab": {
          "autoexec": {
            "startup": false,
            "wait_interval": 0
          }
        }
      },
      "cell_type": "code",
      "source": [
        "predicted = model.predict(X)"
      ],
      "execution_count": 0,
      "outputs": []
    },
    {
      "metadata": {
        "id": "ZPF912IT0Dku",
        "colab_type": "code",
        "colab": {
          "autoexec": {
            "startup": false,
            "wait_interval": 0
          }
        }
      },
      "cell_type": "code",
      "source": [
        "from sklearn import metrics"
      ],
      "execution_count": 0,
      "outputs": []
    },
    {
      "metadata": {
        "id": "uUCDpZ6p0Fmm",
        "colab_type": "code",
        "colab": {
          "autoexec": {
            "startup": false,
            "wait_interval": 0
          },
          "base_uri": "https://localhost:8080/",
          "height": 35
        },
        "outputId": "1b0535c7-a868-4974-880f-fdd99f9f0088",
        "executionInfo": {
          "status": "ok",
          "timestamp": 1525219293035,
          "user_tz": 240,
          "elapsed": 448,
          "user": {
            "displayName": "Manoj Joshi",
            "photoUrl": "https://lh3.googleusercontent.com/a/default-user=s128",
            "userId": "112099731100984326150"
          }
        }
      },
      "cell_type": "code",
      "source": [
        "metrics.log_loss(Y, predicted)"
      ],
      "execution_count": 47,
      "outputs": [
        {
          "output_type": "execute_result",
          "data": {
            "text/plain": [
              "0.6807367339814928"
            ]
          },
          "metadata": {
            "tags": []
          },
          "execution_count": 47
        }
      ]
    },
    {
      "metadata": {
        "id": "hEXl4nhQ0HDa",
        "colab_type": "code",
        "colab": {
          "autoexec": {
            "startup": false,
            "wait_interval": 0
          }
        }
      },
      "cell_type": "code",
      "source": [
        "model.save('dialog_speech_CNN.h5')"
      ],
      "execution_count": 0,
      "outputs": []
    },
    {
      "metadata": {
        "id": "0TMclkfkQ7cZ",
        "colab_type": "code",
        "colab": {
          "autoexec": {
            "startup": false,
            "wait_interval": 0
          }
        }
      },
      "cell_type": "code",
      "source": [
        "model = load_model('dialog_speech_CNN.h5')"
      ],
      "execution_count": 0,
      "outputs": []
    },
    {
      "metadata": {
        "id": "jrotloNRRGKZ",
        "colab_type": "code",
        "colab": {
          "autoexec": {
            "startup": false,
            "wait_interval": 0
          }
        }
      },
      "cell_type": "code",
      "source": [
        "from google.colab import files"
      ],
      "execution_count": 0,
      "outputs": []
    },
    {
      "metadata": {
        "id": "49Jqef5RRSIO",
        "colab_type": "code",
        "colab": {
          "autoexec": {
            "startup": false,
            "wait_interval": 0
          },
          "base_uri": "https://localhost:8080/",
          "height": 71
        },
        "outputId": "c7716553-df4a-42d3-fda4-fea905772c14",
        "executionInfo": {
          "status": "ok",
          "timestamp": 1525222488614,
          "user_tz": 240,
          "elapsed": 1783,
          "user": {
            "displayName": "Manoj Joshi",
            "photoUrl": "https://lh3.googleusercontent.com/a/default-user=s128",
            "userId": "112099731100984326150"
          }
        }
      },
      "cell_type": "code",
      "source": [
        "ls"
      ],
      "execution_count": 53,
      "outputs": [
        {
          "output_type": "stream",
          "text": [
            "\u001b[0m\u001b[01;34mdatalab\u001b[0m/                   dialog_speech_CNN.h5        yes_no_question.pkl\r\n",
            "declarative_question.pkl   view_opinion_statement.pkl\r\n",
            "description_statement.pkl  wh_question.pkl\r\n"
          ],
          "name": "stdout"
        }
      ]
    },
    {
      "metadata": {
        "id": "BH-zce47WDLY",
        "colab_type": "code",
        "colab": {
          "autoexec": {
            "startup": false,
            "wait_interval": 0
          }
        }
      },
      "cell_type": "code",
      "source": [
        "files.download(\"dialog_speech_CNN.h5\")"
      ],
      "execution_count": 0,
      "outputs": []
    },
    {
      "metadata": {
        "id": "_lk9Tf60Ww-7",
        "colab_type": "code",
        "colab": {
          "autoexec": {
            "startup": false,
            "wait_interval": 0
          }
        }
      },
      "cell_type": "code",
      "source": [
        ""
      ],
      "execution_count": 0,
      "outputs": []
    }
  ]
}